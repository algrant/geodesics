{
 "metadata": {
  "language_info": {
   "codemirror_mode": {
    "name": "ipython",
    "version": 3
   },
   "file_extension": ".py",
   "mimetype": "text/x-python",
   "name": "python",
   "nbconvert_exporter": "python",
   "pygments_lexer": "ipython3",
   "version": "3.8.10"
  },
  "orig_nbformat": 4,
  "kernelspec": {
   "name": "python3",
   "display_name": "Python 3.8.10 64-bit ('geodesics': conda)"
  },
  "interpreter": {
   "hash": "0d29a592e19f8a030d6b4987cdc81f9c3c07b7ece8743bc8ac6e793c6efc0ba8"
  }
 },
 "nbformat": 4,
 "nbformat_minor": 2,
 "cells": [
  {
   "cell_type": "code",
   "execution_count": 9,
   "metadata": {
    "tags": []
   },
   "outputs": [
    {
     "output_type": "display_data",
     "data": {
      "text/plain": "Renderer(camera=PerspectiveCamera(children=(DirectionalLight(color='white', intensity=0.6, position=(0.0017208…",
      "application/vnd.jupyter.widget-view+json": {
       "version_major": 2,
       "version_minor": 0,
       "model_id": "6bbaa337c3244ab5820d72e0189b627f"
      }
     },
     "metadata": {}
    }
   ],
   "source": [
    "from csg.core import CSG\n",
    "from csg.geom import Vertex, Vector, Plane, Polygon\n",
    "import meshplot as mp\n",
    "import numpy as np\n",
    "import geo_vase\n",
    "\n",
    "def plotCsg(csg):\n",
    "    verts, polys, count = csg.toVerticesAndPolygons()\n",
    "    triangles = []\n",
    "\n",
    "    tris = []\n",
    "    # polys are always convex (apparently...)\n",
    "    for poly in polys:\n",
    "        vlen = len(poly)\n",
    "        for n in range(1,vlen-1):\n",
    "            tris.append(\n",
    "                [\n",
    "                    poly[0],\n",
    "                    poly[n%vlen],\n",
    "                    poly[(n+1)%vlen],\n",
    "                ]\n",
    "            )\n",
    "    mp.plot(np.array(verts), np.array(tris), shading={\"point_size\": 0.1})\n",
    "\n",
    "gv = geo_vase.GeoVase(\n",
    "    rows=7,\n",
    "    sides=5\n",
    ")\n",
    "\n",
    "# Nice --- easy to convert from our mesh to CSG mesh.\n",
    "ps = CSG.fromPolygons([Polygon([Vertex(gv.verts[v].tolist()) for v in reversed(f)]) for f in gv.faces])\n",
    "b = CSG.fromPolygons([Polygon([Vertex(gv.verts[v].tolist()) for v in reversed(f)]) for f in gv.faces])\n",
    "b.rotate([0, 1, 0], 30)\n",
    "\n",
    "plotCsg(ps.intersect(b))"
   ]
  },
  {
   "cell_type": "code",
   "execution_count": 10,
   "metadata": {},
   "outputs": [
    {
     "output_type": "display_data",
     "data": {
      "text/plain": "Renderer(camera=PerspectiveCamera(children=(DirectionalLight(color='white', intensity=0.6, position=(0.0039288…",
      "application/vnd.jupyter.widget-view+json": {
       "version_major": 2,
       "version_minor": 0,
       "model_id": "15a8978c62894ec48ba9fa3068c22054"
      }
     },
     "metadata": {}
    }
   ],
   "source": [
    "def frameCube(center, frame, scale):\n",
    "    n, u, v = frame\n",
    "    verts = []\n",
    "    \n",
    "    for i in range(8):\n",
    "        a = (2 * bool(i & 1) - 1)\n",
    "        b = (2 * bool(i & 2) - 1)\n",
    "        c = (2 * bool(i & 4) - 1)\n",
    "\n",
    "        verts.append(Vertex((center - (n*a + u*b + v*c)*scale).tolist()))\n",
    "    polys = []\n",
    "    cubeFaces = [\n",
    "        [[0, 4, 6, 2], [-1, 0, 0]],\n",
    "        [[1, 3, 7, 5], [+1, 0, 0]],\n",
    "        [[0, 1, 5, 4], [0, -1, 0]],\n",
    "        [[2, 6, 7, 3], [0, +1, 0]],\n",
    "        [[0, 2, 3, 1], [0, 0, -1]],\n",
    "        [[4, 5, 7, 6], [0, 0, +1]]\n",
    "    ]\n",
    "    \n",
    "    for f,_ in cubeFaces:\n",
    "        polys.append(Polygon([ verts[v] for v in f]))\n",
    "\n",
    "    return CSG.fromPolygons(polys)\n",
    "\n",
    "\n",
    "\n",
    "gv = geo_vase.GeoVase(\n",
    "    rows=11,\n",
    "    sides=7\n",
    ")\n",
    "\n",
    "c = CSG.cube(center=[0,0.65,0], radius=[10, 0.55, 10])\n",
    "\n",
    "for i, vert in enumerate(gv.verts):\n",
    "    vnorms = gv.vnorms[i]\n",
    "    n, u, v = vnorms\n",
    "    r = 0.05\n",
    "    q = 10\n",
    "    c = c - frameCube(vert - n*q, vnorms, q + r)\n",
    "\n",
    "\n",
    "plotCsg(c)\n",
    "verts, polys, count = c.toVerticesAndPolygons()"
   ]
  },
  {
   "cell_type": "code",
   "execution_count": null,
   "metadata": {},
   "outputs": [],
   "source": []
  }
 ]
}