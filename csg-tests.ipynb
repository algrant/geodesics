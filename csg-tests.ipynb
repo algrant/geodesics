{
 "metadata": {
  "language_info": {
   "codemirror_mode": {
    "name": "ipython",
    "version": 3
   },
   "file_extension": ".py",
   "mimetype": "text/x-python",
   "name": "python",
   "nbconvert_exporter": "python",
   "pygments_lexer": "ipython3",
   "version": "3.8.10"
  },
  "orig_nbformat": 4,
  "kernelspec": {
   "name": "python3",
   "display_name": "Python 3.8.10 64-bit ('geodesics': conda)"
  },
  "interpreter": {
   "hash": "0d29a592e19f8a030d6b4987cdc81f9c3c07b7ece8743bc8ac6e793c6efc0ba8"
  }
 },
 "nbformat": 4,
 "nbformat_minor": 2,
 "cells": [
  {
   "cell_type": "code",
   "execution_count": 1,
   "source": [
    "from csg.core import CSG\n",
    "from csg.geom import Vertex, Vector, Plane, Polygon\n",
    "import meshplot as mp\n",
    "import numpy as np\n",
    "import geo_vase\n",
    "\n",
    "def plotCsg(csg):\n",
    "    verts, polys, count = csg.toVerticesAndPolygons()\n",
    "    triangles = []\n",
    "\n",
    "    tris = []\n",
    "    # polys are always convex (apparently...)\n",
    "    for poly in polys:\n",
    "        vlen = len(poly)\n",
    "        for n in range(1,vlen-1):\n",
    "            tris.append(\n",
    "                [\n",
    "                    poly[0],\n",
    "                    poly[n%vlen],\n",
    "                    poly[(n+1)%vlen],\n",
    "                ]\n",
    "            )\n",
    "    mp.plot(np.array(verts), np.array(tris), shading={\"point_size\": 0.1})\n",
    "bez_nodes = [\n",
    "        [0.1,  0.5, 0.5], \n",
    "        [0.00, 0.0, 0.25], \n",
    "        [0.00, 0.00, 0.00] # needs 0s to be 3D :)\n",
    "    ]\n",
    "gv = geo_vase.GeoVase(\n",
    "    rows=7,\n",
    "    sides=7,\n",
    "    spiral=0,\n",
    "    bez_nodes=bez_nodes\n",
    ")\n",
    "\n",
    "# Nice --- easy to convert from our mesh to CSG mesh.\n",
    "ps = CSG.fromPolygons([Polygon([Vertex(gv.verts[v].tolist()) for v in reversed(f)]) for f in gv.faces])\n",
    "b = CSG.fromPolygons([Polygon([Vertex(gv.verts[v].tolist()) for v in reversed(f)]) for f in gv.faces])\n",
    "b.rotate([0, 1, 0], 30)\n",
    "\n",
    "plotCsg(ps)"
   ],
   "outputs": [
    {
     "output_type": "display_data",
     "data": {
      "application/vnd.jupyter.widget-view+json": {
       "version_major": 2,
       "version_minor": 0,
       "model_id": "9fae6639ae3f491c9700ad84b4eb951a"
      },
      "text/plain": [
       "Renderer(camera=PerspectiveCamera(children=(DirectionalLight(color='white', intensity=0.6, position=(0.0055555…"
      ]
     },
     "metadata": {}
    }
   ],
   "metadata": {
    "tags": []
   }
  },
  {
   "cell_type": "code",
   "execution_count": null,
   "source": [],
   "outputs": [],
   "metadata": {}
  },
  {
   "cell_type": "code",
   "execution_count": 11,
   "source": [
    "def frameCube(center, frame, scale):\n",
    "    n, u, v = frame\n",
    "    verts = []\n",
    "    \n",
    "    for i in range(8):\n",
    "        a = (2 * bool(i & 1) - 1)\n",
    "        b = (2 * bool(i & 2) - 1)\n",
    "        c = (2 * bool(i & 4) - 1)\n",
    "\n",
    "        verts.append(Vertex((center - (n*a + u*b + v*c)*scale).tolist()))\n",
    "    polys = []\n",
    "    cubeFaces = [\n",
    "        [[0, 4, 6, 2], [-1, 0, 0]],\n",
    "        [[1, 3, 7, 5], [+1, 0, 0]],\n",
    "        [[0, 1, 5, 4], [0, -1, 0]],\n",
    "        [[2, 6, 7, 3], [0, +1, 0]],\n",
    "        [[0, 2, 3, 1], [0, 0, -1]],\n",
    "        [[4, 5, 7, 6], [0, 0, +1]]\n",
    "    ]\n",
    "    \n",
    "    for f,_ in cubeFaces:\n",
    "        polys.append(Polygon([ verts[v] for v in f]))\n",
    "\n",
    "    return CSG.fromPolygons(polys)\n",
    "\n",
    "bez_nodes = [\n",
    "        [0.1,  0.4, 0.5], \n",
    "        [0.00, 0.0, 0.5], \n",
    "        [0.00, 0.00, 0.00] # needs 0s to be 3D :)\n",
    "    ]\n",
    "\n",
    "gv = geo_vase.GeoVase(\n",
    "    rows=10,\n",
    "    sides=9,\n",
    "    spiral=0,\n",
    "    bez_nodes=bez_nodes,\n",
    "    weights=[0, 0.5, 0.8, 0.8],\n",
    "\n",
    ")\n",
    "\n",
    "c = CSG.cube(center=[0,0,0], radius=[10, 0.4, 10])\n",
    "\n",
    "for i, vert in enumerate(gv.verts):\n",
    "    vnorms = gv.vnorms[i]\n",
    "    n, u, v = vnorms\n",
    "    r = 0.05\n",
    "    q = 10\n",
    "    c = c - frameCube(vert - n*q, vnorms, q + r)\n",
    "\n",
    "\n",
    "plotCsg(c)\n",
    "verts, polys, count = c.toVerticesAndPolygons()\n",
    "# print({\n",
    "#     \"vertices\": verts,\n",
    "#     \"faces\": [[x for x in reversed(p)] for p in polys]\n",
    "# })"
   ],
   "outputs": [
    {
     "output_type": "display_data",
     "data": {
      "application/vnd.jupyter.widget-view+json": {
       "version_major": 2,
       "version_minor": 0,
       "model_id": "4b22d82454e6492d8c20a866dd98a19a"
      },
      "text/plain": [
       "Renderer(camera=PerspectiveCamera(children=(DirectionalLight(color='white', intensity=0.6, position=(0.0003528…"
      ]
     },
     "metadata": {}
    }
   ],
   "metadata": {}
  },
  {
   "cell_type": "code",
   "execution_count": null,
   "source": [],
   "outputs": [],
   "metadata": {}
  },
  {
   "cell_type": "code",
   "execution_count": null,
   "source": [],
   "outputs": [],
   "metadata": {}
  },
  {
   "cell_type": "code",
   "execution_count": null,
   "source": [],
   "outputs": [],
   "metadata": {}
  },
  {
   "cell_type": "code",
   "execution_count": null,
   "source": [],
   "outputs": [],
   "metadata": {}
  }
 ]
}