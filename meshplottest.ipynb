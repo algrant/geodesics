{
 "metadata": {
  "language_info": {
   "codemirror_mode": {
    "name": "ipython",
    "version": 3
   },
   "file_extension": ".py",
   "mimetype": "text/x-python",
   "name": "python",
   "nbconvert_exporter": "python",
   "pygments_lexer": "ipython3",
   "version": "3.8.5"
  },
  "orig_nbformat": 4,
  "kernelspec": {
   "name": "python3",
   "display_name": "Python 3.8.5 64-bit ('geodesics': conda)"
  },
  "interpreter": {
   "hash": "0d29a592e19f8a030d6b4987cdc81f9c3c07b7ece8743bc8ac6e793c6efc0ba8"
  }
 },
 "nbformat": 4,
 "nbformat_minor": 2,
 "cells": [
  {
   "cell_type": "code",
   "execution_count": 26,
   "metadata": {},
   "outputs": [
    {
     "output_type": "display_data",
     "data": {
      "text/plain": "Renderer(camera=PerspectiveCamera(children=(DirectionalLight(color='white', intensity=0.6, position=(0.3614797…",
      "application/vnd.jupyter.widget-view+json": {
       "version_major": 2,
       "version_minor": 0,
       "model_id": "aee8aad594c645a6b4dbd0155d11a30d"
      }
     },
     "metadata": {}
    },
    {
     "output_type": "execute_result",
     "data": {
      "text/plain": [
       "<meshplot.Viewer.Viewer at 0x7fc0a7657100>"
      ]
     },
     "metadata": {},
     "execution_count": 26
    }
   ],
   "source": [
    "# https://skoch9.github.io/meshplot/tutorial/\n",
    "\n",
    "import numpy as np\n",
    "import meshplot as mp\n",
    "\n",
    "\n",
    "\n",
    "faces = 1\n",
    "sides = 3\n",
    "v = np.random.random(faces*sides*3).reshape((-1,3))\n",
    "v[:,2] = 0\n",
    "f = np.arange(faces*sides).reshape((-1,sides))\n",
    "\n",
    "mp.plot(v,shading={\"point_size\": 0.05})\n",
    "\n"
   ]
  },
  {
   "cell_type": "code",
   "execution_count": null,
   "metadata": {},
   "outputs": [],
   "source": []
  }
 ]
}