{
 "metadata": {
  "language_info": {
   "codemirror_mode": {
    "name": "ipython",
    "version": 3
   },
   "file_extension": ".py",
   "mimetype": "text/x-python",
   "name": "python",
   "nbconvert_exporter": "python",
   "pygments_lexer": "ipython3",
   "version": "3.8.5"
  },
  "orig_nbformat": 4,
  "kernelspec": {
   "name": "python3",
   "display_name": "Python 3.8.5 64-bit ('geodesics': conda)"
  },
  "interpreter": {
   "hash": "0d29a592e19f8a030d6b4987cdc81f9c3c07b7ece8743bc8ac6e793c6efc0ba8"
  }
 },
 "nbformat": 4,
 "nbformat_minor": 2,
 "cells": [
  {
   "cell_type": "code",
   "execution_count": 1,
   "metadata": {},
   "outputs": [],
   "source": [
    "# https://skoch9.github.io/meshplot/tutorial/\n",
    "import meshplot as mp\n",
    "\n",
    "import numpy as np\n",
    "import geo_vase\n"
   ]
  },
  {
   "cell_type": "code",
   "execution_count": 13,
   "metadata": {},
   "outputs": [],
   "source": []
  },
  {
   "cell_type": "code",
   "execution_count": 12,
   "metadata": {},
   "outputs": [
    {
     "output_type": "display_data",
     "data": {
      "text/plain": "Renderer(camera=PerspectiveCamera(children=(DirectionalLight(color='white', intensity=0.6, position=(0.0, 0.62…",
      "application/vnd.jupyter.widget-view+json": {
       "version_major": 2,
       "version_minor": 0,
       "model_id": "7b00399bb3954017a3560aa9b3f52e95"
      }
     },
     "metadata": {}
    }
   ],
   "source": [
    "gv = geo_vase.GeoVase()\n",
    "p = mp.plot(np.array(gv.verts), shading={\"point_size\": 0.1})\n"
   ]
  },
  {
   "cell_type": "code",
   "execution_count": 3,
   "metadata": {},
   "outputs": [
    {
     "output_type": "display_data",
     "data": {
      "text/plain": "Renderer(camera=PerspectiveCamera(children=(DirectionalLight(color='white', intensity=0.6, position=(0.0, 0.62…",
      "application/vnd.jupyter.widget-view+json": {
       "version_major": 2,
       "version_minor": 0,
       "model_id": "63c8720504ff49f2be35baab77830831"
      }
     },
     "metadata": {}
    }
   ],
   "source": [
    "import meshplot as mp\n",
    "\n",
    "import numpy as np\n",
    "import geo_vase\n",
    "\n",
    "gv = geo_vase.GeoVase(\n",
    "    rows=8\n",
    ")\n",
    "p = mp.plot(np.array(gv.verts), np.array(gv.triangles))\n"
   ]
  },
  {
   "cell_type": "code",
   "execution_count": null,
   "metadata": {},
   "outputs": [],
   "source": []
  },
  {
   "cell_type": "code",
   "execution_count": null,
   "metadata": {},
   "outputs": [],
   "source": [
    "|"
   ]
  }
 ]
}